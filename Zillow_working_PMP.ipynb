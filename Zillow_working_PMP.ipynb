{
 "cells": [
  {
   "cell_type": "code",
   "execution_count": 2,
   "metadata": {
    "collapsed": false
   },
   "outputs": [
    {
     "name": "stderr",
     "output_type": "stream",
     "text": [
      "/Users/Patrick/anaconda/lib/python3.5/site-packages/sklearn/cross_validation.py:41: DeprecationWarning: This module was deprecated in version 0.18 in favor of the model_selection module into which all the refactored classes and functions are moved. Also note that the interface of the new CV iterators are different from that of this module. This module will be removed in 0.20.\n",
      "  \"This module will be removed in 0.20.\", DeprecationWarning)\n"
     ]
    }
   ],
   "source": [
    "import numpy as np\n",
    "import pandas as pd\n",
    "import xgboost as xgb\n",
    "from sklearn.preprocessing import LabelEncoder\n",
    "import matplotlib.pyplot as plt\n",
    "import seaborn as sns\n",
    "import gc\n",
    "from datetime import datetime\n",
    "import random\n",
    "from sklearn.cross_validation import train_test_split\n",
    "import math\n",
    "from sklearn.metrics import mean_absolute_error\n",
    "from sklearn.ensemble import GradientBoostingClassifier, GradientBoostingRegressor, RandomForestRegressor\n",
    "from sklearn.model_selection import GridSearchCV\n",
    "from sklearn.metrics import roc_curve,auc\n",
    "from statsmodels.tools import categorical\n",
    "\n",
    "color = sns.color_palette()\n",
    "%matplotlib inline"
   ]
  },
  {
   "cell_type": "code",
   "execution_count": 3,
   "metadata": {
    "collapsed": false
   },
   "outputs": [
    {
     "name": "stderr",
     "output_type": "stream",
     "text": [
      "/Users/Patrick/anaconda/lib/python3.5/site-packages/IPython/core/interactiveshell.py:2698: DtypeWarning: Columns (22,32,34,49,55) have mixed types. Specify dtype option on import or set low_memory=False.\n",
      "  interactivity=interactivity, compiler=compiler, result=result)\n"
     ]
    }
   ],
   "source": [
    "properties_og = pd.read_csv('properties_2016.csv')\n",
    "transactions_og = pd.read_csv('train_2016_v2.csv')\n",
    "train = pd.read_csv('train.csv', index_col=0)\n",
    "properties = pd.read_csv('imputed.csv')\n",
    "train_master = train\n",
    "properties_master = properties"
   ]
  },
  {
   "cell_type": "code",
   "execution_count": 84,
   "metadata": {
    "collapsed": true
   },
   "outputs": [],
   "source": [
    "sample_submission = pd.read_csv('sample_submission.csv')"
   ]
  },
  {
   "cell_type": "code",
   "execution_count": 4,
   "metadata": {
    "collapsed": false
   },
   "outputs": [],
   "source": [
    "drop_cols = [\n",
    "    'fips',\n",
    "    'propertycountylandusecode',\n",
    "    'censustractandblock',\n",
    "    'propertyzoningdesc',\n",
    "    'rawcensustractandblock',\n",
    "    'regionidcity',\n",
    "    'regionidneighborhood',\n",
    "    'regionidzip',\n",
    "    'assessmentyear', # same year\n",
    "    'hashottuborspa',\n",
    "    'year',\n",
    "    'month',\n",
    "    'threequarterbathnbr'\n",
    "]\n",
    "\n",
    "for col in properties_master.columns:\n",
    "    if col in drop_cols:\n",
    "        properties_master = properties_master.drop(col, axis=1)\n",
    "        train_master = train_master.drop(col, axis=1)       "
   ]
  },
  {
   "cell_type": "code",
   "execution_count": 25,
   "metadata": {
    "collapsed": false
   },
   "outputs": [],
   "source": [
    "train_master = train_master.drop('month', axis=1)\n",
    "train_master = train_master.drop('year', axis=1)"
   ]
  },
  {
   "cell_type": "code",
   "execution_count": 100,
   "metadata": {
    "collapsed": false
   },
   "outputs": [
    {
     "data": {
      "text/plain": [
       "Index(['parcelid', 'logerror', 'airconditioningtypeid', 'bathroomcnt',\n",
       "       'bedroomcnt', 'buildingqualitytypeid', 'calculatedfinishedsquarefeet',\n",
       "       'fireplacecnt', 'fullbathcnt', 'garagecarcnt', 'heatingorsystemtypeid',\n",
       "       'latitude', 'longitude', 'lotsizesquarefeet', 'poolcnt',\n",
       "       'propertylandusetypeid', 'regionidcounty', 'unitcnt', 'yearbuilt',\n",
       "       'numberofstories', 'structuretaxvaluedollarcnt',\n",
       "       'landtaxvaluedollarcnt', 'taxdelinquencyflag', 'taxdelinquencyyear',\n",
       "       'logstructuretaxvaluedollarcnt', 'loglandtaxvaluedollarcnt'],\n",
       "      dtype='object')"
      ]
     },
     "execution_count": 100,
     "metadata": {},
     "output_type": "execute_result"
    }
   ],
   "source": [
    "train_master.columns"
   ]
  },
  {
   "cell_type": "code",
   "execution_count": 5,
   "metadata": {
    "collapsed": true
   },
   "outputs": [],
   "source": [
    "def feature_importance(estimator, labels):\n",
    "    feature_imp = pd.DataFrame.from_dict({'feature':labels,\n",
    "                                          'importance':estimator.feature_importances_})\n",
    "    feature_imp.set_index('feature',\n",
    "                          inplace=True, \n",
    "                          drop=True)\n",
    "    feature_imp = feature_imp.sort_values('importance', ascending=False)\n",
    "    feature_imp.plot.bar()"
   ]
  },
  {
   "cell_type": "code",
   "execution_count": 101,
   "metadata": {
    "collapsed": false
   },
   "outputs": [
    {
     "data": {
      "text/plain": [
       "['parcelid',\n",
       " 'logerror',\n",
       " 'airconditioningtypeid',\n",
       " 'bathroomcnt',\n",
       " 'bedroomcnt',\n",
       " 'buildingqualitytypeid',\n",
       " 'calculatedfinishedsquarefeet',\n",
       " 'fireplacecnt',\n",
       " 'fullbathcnt',\n",
       " 'garagecarcnt',\n",
       " 'heatingorsystemtypeid',\n",
       " 'latitude',\n",
       " 'longitude',\n",
       " 'lotsizesquarefeet',\n",
       " 'poolcnt',\n",
       " 'propertylandusetypeid',\n",
       " 'regionidcounty',\n",
       " 'unitcnt',\n",
       " 'yearbuilt',\n",
       " 'numberofstories',\n",
       " 'structuretaxvaluedollarcnt',\n",
       " 'landtaxvaluedollarcnt',\n",
       " 'taxdelinquencyflag',\n",
       " 'taxdelinquencyyear',\n",
       " 'logstructuretaxvaluedollarcnt',\n",
       " 'loglandtaxvaluedollarcnt']"
      ]
     },
     "execution_count": 101,
     "metadata": {},
     "output_type": "execute_result"
    }
   ],
   "source": [
    "train_master.columns.tolist()"
   ]
  },
  {
   "cell_type": "code",
   "execution_count": 6,
   "metadata": {
    "collapsed": false
   },
   "outputs": [],
   "source": [
    "train_master['structuretaxvaluedollarcnt'] = train_master['structuretaxvaluedollarcnt'].replace(to_replace= 0, value = 1)\n",
    "train_master['landtaxvaluedollarcnt'] = train_master['landtaxvaluedollarcnt'].replace(to_replace= 0, value = 1)"
   ]
  },
  {
   "cell_type": "code",
   "execution_count": 7,
   "metadata": {
    "collapsed": false
   },
   "outputs": [],
   "source": [
    "train_master['logstructuretaxvaluedollarcnt'] = np.log(train_master['structuretaxvaluedollarcnt'])\n",
    "train_master['loglandtaxvaluedollarcnt'] = np.log(train_master['landtaxvaluedollarcnt'])"
   ]
  },
  {
   "cell_type": "code",
   "execution_count": 111,
   "metadata": {
    "collapsed": false
   },
   "outputs": [],
   "source": [
    "train_master['fullbathcnt'] = train_master['fullbathcnt'].replace(to_replace= -1, value = 2)"
   ]
  },
  {
   "cell_type": "code",
   "execution_count": 123,
   "metadata": {
    "collapsed": false
   },
   "outputs": [
    {
     "data": {
      "text/plain": [
       "1968.5328701169585"
      ]
     },
     "execution_count": 123,
     "metadata": {},
     "output_type": "execute_result"
    }
   ],
   "source": [
    "train_master.yearbuilt[train_master.yearbuilt > -1].mean()"
   ]
  },
  {
   "cell_type": "code",
   "execution_count": 127,
   "metadata": {
    "collapsed": false
   },
   "outputs": [
    {
     "name": "stderr",
     "output_type": "stream",
     "text": [
      "/Users/Patrick/anaconda/lib/python3.5/site-packages/ipykernel/__main__.py:3: SettingWithCopyWarning: \n",
      "A value is trying to be set on a copy of a slice from a DataFrame\n",
      "\n",
      "See the caveats in the documentation: http://pandas.pydata.org/pandas-docs/stable/indexing.html#indexing-view-versus-copy\n",
      "  app.launch_new_instance()\n"
     ]
    }
   ],
   "source": [
    "#impute mean year built for missing values (coded as -1): 1969\n",
    "\n",
    "train_master.yearbuilt[train_master.yearbuilt == -1] = 1969"
   ]
  },
  {
   "cell_type": "code",
   "execution_count": 247,
   "metadata": {
    "collapsed": false
   },
   "outputs": [
    {
     "data": {
      "image/png": "[encoded data removed]",
      "text/plain": [
       "<matplotlib.figure.Figure at 0x118678e10>"
      ]
     },
     "metadata": {},
     "output_type": "display_data"
    }
   ],
   "source": [
    "n, bins, patches = plt.hist(train_master.logstructuretaxvaluedollarcnt, 100, facecolor='blue', alpha=0.5)\n",
    "plt.show()"
   ]
  },
  {
   "cell_type": "code",
   "execution_count": 248,
   "metadata": {
    "collapsed": false
   },
   "outputs": [
    {
     "data": {
      "image/png": "[encoded data removed]",
      "text/plain": [
       "<matplotlib.figure.Figure at 0x16033b978>"
      ]
     },
     "metadata": {},
     "output_type": "display_data"
    }
   ],
   "source": [
    "n, bins, patches = plt.hist(train_master.structuretaxvaluedollarcnt, 100, facecolor='blue', alpha=0.5)\n",
    "plt.show()"
   ]
  },
  {
   "cell_type": "code",
   "execution_count": 249,
   "metadata": {
    "collapsed": false
   },
   "outputs": [
    {
     "data": {
      "image/png": "[encoded data removed]",
      "text/plain": [
       "<matplotlib.figure.Figure at 0x11c9f7828>"
      ]
     },
     "metadata": {},
     "output_type": "display_data"
    }
   ],
   "source": [
    "n, bins, patches = plt.hist(train_master.loglandtaxvaluedollarcnt, 100, facecolor='blue', alpha=0.5)\n",
    "plt.show()"
   ]
  },
  {
   "cell_type": "code",
   "execution_count": 250,
   "metadata": {
    "collapsed": false
   },
   "outputs": [
    {
     "data": {
      "image/png": "[encoded data removed]",
      "text/plain": [
       "<matplotlib.figure.Figure at 0x167b1a438>"
      ]
     },
     "metadata": {},
     "output_type": "display_data"
    }
   ],
   "source": [
    "n, bins, patches = plt.hist(train_master.landtaxvaluedollarcnt, 100, facecolor='blue', alpha=0.5)\n",
    "plt.show()"
   ]
  },
  {
   "cell_type": "markdown",
   "metadata": {},
   "source": [
    "### 1) Preprocessing: Convert 64 bit floats to 32 bit and fix column name types"
   ]
  },
  {
   "cell_type": "code",
   "execution_count": 54,
   "metadata": {
    "collapsed": false,
    "scrolled": true
   },
   "outputs": [],
   "source": [
    "for c, dtype in zip(train_master.columns, train_master.dtypes):\n",
    "    if dtype == np.float64:\n",
    "        train_master[c] = train_master[c].astype(np.float32)"
   ]
  },
  {
   "cell_type": "code",
   "execution_count": 55,
   "metadata": {
    "collapsed": false
   },
   "outputs": [],
   "source": [
    "for c in properties_master.columns:\n",
    "    properties_master[c]=properties_master[c].fillna(-1)\n",
    "    if properties_master[c].dtype == 'object':\n",
    "        lbl = LabelEncoder()\n",
    "        lbl.fit(list(properties_master[c].values))\n",
    "        properties_master[c] = lbl.transform(list(properties_master[c].values))"
   ]
  },
  {
   "cell_type": "code",
   "execution_count": 56,
   "metadata": {
    "collapsed": false
   },
   "outputs": [],
   "source": [
    "train_master = transactions_og.merge(properties_master, how='left', on='parcelid')"
   ]
  },
  {
   "cell_type": "markdown",
   "metadata": {},
   "source": [
    "## Gradient Boosting and XGBoost"
   ]
  },
  {
   "cell_type": "markdown",
   "metadata": {},
   "source": [
    "### 1) Initialize train_y, train_xvars, feature names"
   ]
  },
  {
   "cell_type": "code",
   "execution_count": 132,
   "metadata": {
    "collapsed": false
   },
   "outputs": [],
   "source": [
    "train_y = train_master['logerror'].values\n",
    "train_x = train_master.drop(['parcelid','logerror','structuretaxvaluedollarcnt', \n",
    "                             'landtaxvaluedollarcnt','taxdelinquencyyear'], axis = 1)"
   ]
  },
  {
   "cell_type": "code",
   "execution_count": null,
   "metadata": {
    "collapsed": true
   },
   "outputs": [],
   "source": [
    "#XGB stuff\n",
    "#test_x = properties_master.drop(['parcelid'], axis = 1)\n",
    "#feat_names = train_x.columns.values\n",
    "#mean_y = np.mean(train_y)"
   ]
  },
  {
   "cell_type": "code",
   "execution_count": 133,
   "metadata": {
    "collapsed": false
   },
   "outputs": [],
   "source": [
    "#create the dummy matrices for each categorical variable, and add back into the X_test and X_train dfs\n",
    "\n",
    "airconditioningtypeid_array_train_x = np.array(train_x['airconditioningtypeid'])\n",
    "airconditioningtypeid_array_train_x = categorical(airconditioningtypeid_array_train_x, drop=True)\n",
    "\n",
    "propertylandusetypeid_array_train_x = np.array(train_x['propertylandusetypeid'])\n",
    "propertylandusetypeid_array_train_x = categorical(propertylandusetypeid_array_train_x, drop=True)\n",
    "\n",
    "heatingorsystemtypeid_array_train_x = np.array(train_x['heatingorsystemtypeid'])\n",
    "heatingorsystemtypeid_array_train_x = categorical(heatingorsystemtypeid_array_train_x, drop=True)\n",
    "\n",
    "regionidcounty_array_train_x = np.array(train_x['regionidcounty'])\n",
    "regionidcounty_array_train_x = categorical(regionidcounty_array_train_x, drop=True)\n",
    "\n",
    "buildingqualitytypeid_array_train_x = np.array(train_x['buildingqualitytypeid'])\n",
    "buildingqualitytypeid_array_train_x = categorical(buildingqualitytypeid_array_train_x, drop=True)\n",
    "\n",
    "unitcnt_array_train_x = np.array(train_x['unitcnt'])\n",
    "unitcnt_array_train_x = categorical(unitcnt_array_train_x, drop=True)\n",
    "\n",
    "numberofstories_array_train_x = np.array(train_x['numberofstories'])\n",
    "numberofstories_array_train_x = categorical(numberofstories_array_train_x, drop=True)"
   ]
  },
  {
   "cell_type": "code",
   "execution_count": 134,
   "metadata": {
    "collapsed": true
   },
   "outputs": [],
   "source": [
    "train_x_drop = train_x.drop(['airconditioningtypeid','heatingorsystemtypeid',\n",
    "                        'propertylandusetypeid','regionidcounty','buildingqualitytypeid',\n",
    "                        'unitcnt','numberofstories'], axis = 1)"
   ]
  },
  {
   "cell_type": "code",
   "execution_count": 135,
   "metadata": {
    "collapsed": false
   },
   "outputs": [],
   "source": [
    "train_xnew = np.concatenate((train_x_drop, airconditioningtypeid_array_train_x,\n",
    "                         propertylandusetypeid_array_train_x,\n",
    "                         heatingorsystemtypeid_array_train_x,\n",
    "                         regionidcounty_array_train_x,\n",
    "                         buildingqualitytypeid_array_train_x,\n",
    "                         unitcnt_array_train_x,\n",
    "                         numberofstories_array_train_x), axis = 1)"
   ]
  },
  {
   "cell_type": "code",
   "execution_count": 136,
   "metadata": {
    "collapsed": false
   },
   "outputs": [],
   "source": [
    "X_train, X_test, y_train, y_test = train_test_split(train_xnew, train_y, test_size=0.2, random_state=42)"
   ]
  },
  {
   "cell_type": "code",
   "execution_count": 137,
   "metadata": {
    "collapsed": false
   },
   "outputs": [
    {
     "data": {
      "text/plain": [
       "(72220, 74)"
      ]
     },
     "execution_count": 137,
     "metadata": {},
     "output_type": "execute_result"
    }
   ],
   "source": [
    "X_train.shape"
   ]
  },
  {
   "cell_type": "code",
   "execution_count": 223,
   "metadata": {
    "collapsed": false
   },
   "outputs": [],
   "source": [
    "#for c in X_train.dtypes[X_train.dtypes == object].index.values:\n",
    "#    X_train[c] = (X_train[c] == True)"
   ]
  },
  {
   "cell_type": "code",
   "execution_count": 139,
   "metadata": {
    "collapsed": false
   },
   "outputs": [
    {
     "name": "stdout",
     "output_type": "stream",
     "text": [
      "Shape train: (72220, 74)\n",
      "Shape test: (18055, 74)\n"
     ]
    }
   ],
   "source": [
    "print('Shape train: {}\\nShape test: {}'.format(X_train.shape, X_test.shape))"
   ]
  },
  {
   "cell_type": "markdown",
   "metadata": {},
   "source": [
    "### Gradient Boosting Model"
   ]
  },
  {
   "cell_type": "code",
   "execution_count": 140,
   "metadata": {
    "collapsed": false
   },
   "outputs": [
    {
     "data": {
      "text/plain": [
       "GridSearchCV(cv=5, error_score='raise',\n",
       "       estimator=GradientBoostingRegressor(alpha=0.9, criterion='friedman_mse', init=None,\n",
       "             learning_rate=0.1, loss='ls', max_depth=3, max_features=None,\n",
       "             max_leaf_nodes=None, min_impurity_decrease=0.0,\n",
       "             min_impurity_split=None, min_samples_leaf=1,\n",
       "             min_samples_split=2, min_weight_fraction_leaf=0.0,\n",
       "             n_estimators=100, presort='auto', random_state=42,\n",
       "             subsample=1.0, verbose=0, warm_start=False),\n",
       "       fit_params=None, iid=True, n_jobs=1,\n",
       "       param_grid={'learning_rate': [0.06], 'max_features': [8, 9, 10], 'min_samples_split': [600], 'subsample': [0.85], 'n_estimators': [40], 'max_depth': [7]},\n",
       "       pre_dispatch='2*n_jobs', refit=True, return_train_score=True,\n",
       "       scoring='neg_mean_absolute_error', verbose=0)"
      ]
     },
     "execution_count": 140,
     "metadata": {},
     "output_type": "execute_result"
    }
   ],
   "source": [
    "parameters = {'n_estimators':[40],\n",
    "              'learning_rate':[0.06],\n",
    "              'subsample':[.85],\n",
    "              'max_depth':[7],\n",
    "              'max_features':[8,9,10],\n",
    "              'min_samples_split':[600]\n",
    "             }\n",
    "\n",
    "\n",
    "gb_reg = GradientBoostingRegressor(verbose=0,random_state=42)\n",
    "\n",
    "gb_cv = GridSearchCV(gb_reg,\n",
    "                     param_grid=parameters,\n",
    "                     scoring='neg_mean_absolute_error',\n",
    "                     cv=5)  \n",
    "gb_cv.fit(X_train, y_train)"
   ]
  },
  {
   "cell_type": "code",
   "execution_count": 141,
   "metadata": {
    "collapsed": false
   },
   "outputs": [
    {
     "name": "stdout",
     "output_type": "stream",
     "text": [
      "{'learning_rate': 0.06, 'max_features': 9, 'min_samples_split': 600, 'subsample': 0.85, 'max_depth': 7, 'n_estimators': 40}\n"
     ]
    }
   ],
   "source": [
    "print(gb_cv.best_params_)"
   ]
  },
  {
   "cell_type": "code",
   "execution_count": 92,
   "metadata": {
    "collapsed": false
   },
   "outputs": [
    {
     "name": "stdout",
     "output_type": "stream",
     "text": [
      "{'learning_rate': 0.06, 'max_features': 8, 'min_samples_split': 600, 'subsample': 0.85, 'max_depth': 7, 'n_estimators': 40}\n"
     ]
    }
   ],
   "source": [
    "#model 3: dummy variables, no interpretability, more cv\n",
    "\n",
    "print(gb_cv.best_params_)"
   ]
  },
  {
   "cell_type": "code",
   "execution_count": 38,
   "metadata": {
    "collapsed": false
   },
   "outputs": [
    {
     "data": {
      "image/png": "[encoded data removed]",
      "text/plain": [
       "<matplotlib.figure.Figure at 0x1124e85c0>"
      ]
     },
     "metadata": {},
     "output_type": "display_data"
    }
   ],
   "source": [
    "#model 2: more cv\n",
    "\n",
    "feature_importance(gb_cv.best_estimator_, X_train.columns)"
   ]
  },
  {
   "cell_type": "code",
   "execution_count": 15,
   "metadata": {
    "collapsed": false
   },
   "outputs": [
    {
     "data": {
      "image/png": "[encoded data removed]",
      "text/plain": [
       "<matplotlib.figure.Figure at 0x13c624278>"
      ]
     },
     "metadata": {},
     "output_type": "display_data"
    }
   ],
   "source": [
    "### model 1: limited cv\n",
    "feature_importance(gb_cv.best_estimator_, X_train.columns)"
   ]
  },
  {
   "cell_type": "code",
   "execution_count": 20,
   "metadata": {
    "collapsed": false
   },
   "outputs": [
    {
     "ename": "NameError",
     "evalue": "name 'plot' is not defined",
     "output_type": "error",
     "traceback": [
      "\u001b[0;31m---------------------------------------------------------------------------\u001b[0m",
      "\u001b[0;31mNameError\u001b[0m                                 Traceback (most recent call last)",
      "\u001b[0;32m<ipython-input-20-ec11c2101ecc>\u001b[0m in \u001b[0;36m<module>\u001b[0;34m()\u001b[0m\n\u001b[0;32m----> 1\u001b[0;31m \u001b[0mplot\u001b[0m\u001b[0;34m.\u001b[0m\u001b[0msavefig\u001b[0m\u001b[0;34m(\u001b[0m\u001b[0;34m'feature_importance_gbm1.png'\u001b[0m\u001b[0;34m)\u001b[0m\u001b[0;34m\u001b[0m\u001b[0m\n\u001b[0m",
      "\u001b[0;31mNameError\u001b[0m: name 'plot' is not defined"
     ]
    }
   ],
   "source": [
    "plot.savefig('feature_importance_gbm1.png')"
   ]
  },
  {
   "cell_type": "code",
   "execution_count": 142,
   "metadata": {
    "collapsed": false
   },
   "outputs": [
    {
     "data": {
      "text/plain": [
       "0.068399759994235407"
      ]
     },
     "execution_count": 142,
     "metadata": {},
     "output_type": "execute_result"
    }
   ],
   "source": [
    "mean_absolute_error(y_test, gb_cv.best_estimator_.predict(X_test))"
   ]
  },
  {
   "cell_type": "code",
   "execution_count": 99,
   "metadata": {
    "collapsed": false
   },
   "outputs": [
    {
     "data": {
      "text/plain": [
       "0.068409961572080513"
      ]
     },
     "execution_count": 99,
     "metadata": {},
     "output_type": "execute_result"
    }
   ],
   "source": [
    "mean_absolute_error(y_test, gb_cv.best_estimator_.predict(X_test))"
   ]
  },
  {
   "cell_type": "code",
   "execution_count": null,
   "metadata": {
    "collapsed": true
   },
   "outputs": [],
   "source": [
    "###Results\n",
    "\n",
    "#1) parameters = {'learning_rate': 0.01, 'n_estimators': 20, 'max_depth': 9}\n",
    "#        cv = 3\n",
    "#        MAE = .068683817238\n",
    "\n",
    "#2) parameters = {'n_estimators':[40,60],\n",
    "#             'learning_rate':[0.07, 0.1],\n",
    "#             'subsample':[.8,.9],\n",
    "#             'max_depth':[8,9,10],\n",
    "#             'max_features':[6,7],\n",
    "#             'min_samples_split':[300,500,700]\n",
    "#            }\n",
    "#  best_params = {'learning_rate': 0.07, \n",
    "#                  'max_features': 7, \n",
    "#                  'min_samples_split': 500, \n",
    "#                  'subsample': 0.8, \n",
    "#                  'max_depth': 8, \n",
    "#                  'n_estimators': 40}\n",
    "#         cv = 5\n",
    "#         MAE = .068389338654760323\n",
    "\n",
    "#3) model with categorical variables as dummies (including numbath, numbed)\n",
    "\n",
    "#  parameters = {'n_estimators':[40,50],\n",
    "#              'learning_rate':[0.06, 0.07],\n",
    "#              'subsample':[.8,.85],\n",
    "#              'max_depth':[7,8],\n",
    "#              'max_features':[7,8],\n",
    "#              'min_samples_split':[400,500,600]\n",
    "#             }\n",
    "#  best_params = {'learning_rate': 0.06, \n",
    "#                  'max_features': 8, \n",
    "#                  'min_samples_split': 600, \n",
    "#                  'subsample': 0.85, \n",
    "#                  'max_depth': 7, \n",
    "#                  'n_estimators': 40}\n",
    "#         cv = 5\n",
    "#         MAE = 0.068436882188459225\n",
    "\n",
    "#4) model with categorical variables as dummies (including numbath, numbed)\n",
    "\n",
    "#  parameters = {'n_estimators':[40],\n",
    "#              'learning_rate':[0.06],\n",
    "#              'subsample':[.85],\n",
    "#              'max_depth':[7],\n",
    "#              'max_features':[12,13,14,15],\n",
    "#              'min_samples_split':[600]\n",
    "#             }\n",
    "#  best_params = {'learning_rate': 0.06, \n",
    "#                  'max_features': 14, \n",
    "#                  'min_samples_split': 600, \n",
    "#                  'subsample': 0.85, \n",
    "#                  'max_depth': 7, \n",
    "#                  'n_estimators': 40}\n",
    "#         cv = 5\n",
    "#         MAE = 0.068409961572080513\n",
    "\n",
    "#5) model with categorical variables as dummies \n",
    "#    (numbath, numbed, totalbath, yearbuilt are numeric continuous)\n",
    "\n",
    "#  parameters = {'n_estimators':[40],\n",
    "#              'learning_rate':[0.06],\n",
    "#              'subsample':[.85],\n",
    "#              'max_depth':[7],\n",
    "#              'max_features':[8,9,10],\n",
    "#              'min_samples_split':[600]\n",
    "#             }\n",
    "#  best_params = {'learning_rate': 0.06, \n",
    "#              'max_features': 9, \n",
    "#              'min_samples_split': 600, \n",
    "#              'subsample': 0.85, \n",
    "#              'max_depth': 7, \n",
    "#              'n_estimators': 40}\n",
    "#         cv = 5\n",
    "#         MAE = 0.068399759994235407\n",
    "\n",
    "\n"
   ]
  },
  {
   "cell_type": "markdown",
   "metadata": {},
   "source": [
    "### XGBoost"
   ]
  },
  {
   "cell_type": "code",
   "execution_count": null,
   "metadata": {
    "collapsed": true
   },
   "outputs": [],
   "source": [
    "#Reminder: X_train, X_test, y_train, y_test = train_test_split(train_xnew, train_y, test_size=0.2, random_state=42)"
   ]
  },
  {
   "cell_type": "code",
   "execution_count": null,
   "metadata": {
    "collapsed": true
   },
   "outputs": [],
   "source": []
  },
  {
   "cell_type": "markdown",
   "metadata": {},
   "source": [
    "### 2) Set parameters"
   ]
  },
  {
   "cell_type": "code",
   "execution_count": 148,
   "metadata": {
    "collapsed": false
   },
   "outputs": [],
   "source": [
    "xgb_params = {\n",
    "    'learning_rate':.06,\n",
    "    'eta': 0.01,\n",
    "    'max_depth': 7,\n",
    "    'subsample': 0.85,\n",
    "    'colsample_bytree': 0.7,\n",
    "    'objective': 'reg:linear',\n",
    "    'silent': 0,\n",
    "    'seed': 42\n",
    "}\n",
    "\n",
    "num_round = 5000\n",
    "\n",
    "early_stopping_rounds=50\n",
    "\n",
    "nfold = 10"
   ]
  },
  {
   "cell_type": "markdown",
   "metadata": {},
   "source": [
    "### 3) Set train matrix and model"
   ]
  },
  {
   "cell_type": "code",
   "execution_count": 146,
   "metadata": {
    "collapsed": false
   },
   "outputs": [],
   "source": [
    "dtrain = xgb.DMatrix(X_train, y_train)\n",
    "dtest = xgb.DMatrix(X_test)"
   ]
  },
  {
   "cell_type": "markdown",
   "metadata": {},
   "source": [
    "### 4) Cross validation"
   ]
  },
  {
   "cell_type": "code",
   "execution_count": 149,
   "metadata": {
    "collapsed": false
   },
   "outputs": [
    {
     "name": "stdout",
     "output_type": "stream",
     "text": [
      "[0]\ttrain-error:0.0109447+0.000184956\ttest-error:0.0118716+0.00150192\n",
      "[1]\ttrain-error:0.0107677+0.000177807\ttest-error:0.0118699+0.00147558\n",
      "[2]\ttrain-error:0.0106809+0.000222315\ttest-error:0.0118715+0.00148956\n",
      "[3]\ttrain-error:0.0106969+0.000237857\ttest-error:0.0118199+0.00144267\n",
      "[4]\ttrain-error:0.010677+0.000186003\ttest-error:0.0117361+0.0014163\n",
      "[5]\ttrain-error:0.0107068+0.000180427\ttest-error:0.0117471+0.00151664\n",
      "[6]\ttrain-error:0.010684+0.000189012\ttest-error:0.0117447+0.00149289\n",
      "[7]\ttrain-error:0.0106631+0.000159541\ttest-error:0.0117522+0.00149673\n",
      "[8]\ttrain-error:0.0106527+0.000178209\ttest-error:0.0117715+0.00144179\n",
      "[9]\ttrain-error:0.0106227+0.000192444\ttest-error:0.0117232+0.00152819\n",
      "[10]\ttrain-error:0.010655+0.0001825\ttest-error:0.0116722+0.00150201\n",
      "[11]\ttrain-error:0.0106892+0.000199726\ttest-error:0.0117183+0.00149611\n",
      "[12]\ttrain-error:0.0107027+0.000169994\ttest-error:0.0117079+0.00151128\n",
      "[13]\ttrain-error:0.0106749+0.000169161\ttest-error:0.0117079+0.00151128\n",
      "[14]\ttrain-error:0.0106711+0.000162915\ttest-error:0.0117339+0.00149492\n",
      "[15]\ttrain-error:0.0106752+0.00016632\ttest-error:0.0117339+0.00149492\n",
      "[16]\ttrain-error:0.0106756+0.000174783\ttest-error:0.0117213+0.00149182\n",
      "[17]\ttrain-error:0.0106613+0.000187968\ttest-error:0.0117213+0.00149182\n",
      "[18]\ttrain-error:0.0106769+0.000168779\ttest-error:0.0117321+0.00150766\n",
      "[19]\ttrain-error:0.0106881+0.000172324\ttest-error:0.0117451+0.00149641\n",
      "[20]\ttrain-error:0.0106866+0.000174461\ttest-error:0.0117321+0.00150766\n",
      "[21]\ttrain-error:0.0106721+0.000168293\ttest-error:0.0117318+0.00147967\n",
      "[22]\ttrain-error:0.0106591+0.000165163\ttest-error:0.0117318+0.00147967\n",
      "[23]\ttrain-error:0.0106601+0.000164741\ttest-error:0.0117318+0.00147967\n",
      "[24]\ttrain-error:0.0106654+0.000173172\ttest-error:0.0117318+0.00147967\n",
      "[25]\ttrain-error:0.0106594+0.000173774\ttest-error:0.0117421+0.00146509\n",
      "[26]\ttrain-error:0.010641+0.000191086\ttest-error:0.0117421+0.00146509\n",
      "[27]\ttrain-error:0.0106362+0.000185466\ttest-error:0.0117421+0.00146509\n",
      "[28]\ttrain-error:0.0106361+0.000180047\ttest-error:0.0117421+0.00146509\n",
      "[29]\ttrain-error:0.0106345+0.000184779\ttest-error:0.0117444+0.00148271\n",
      "[30]\ttrain-error:0.0106103+0.000173613\ttest-error:0.0117444+0.00148271\n",
      "[31]\ttrain-error:0.010606+0.000194293\ttest-error:0.0117444+0.00148271\n",
      "[32]\ttrain-error:0.0106+0.000193448\ttest-error:0.0117318+0.00147967\n",
      "[33]\ttrain-error:0.0106089+0.000179067\ttest-error:0.0117592+0.00146597\n",
      "[34]\ttrain-error:0.0106232+0.00018732\ttest-error:0.0117444+0.00148271\n",
      "[35]\ttrain-error:0.0106232+0.00018732\ttest-error:0.0117444+0.00148271\n",
      "[36]\ttrain-error:0.0106064+0.000179228\ttest-error:0.0117444+0.00148271\n",
      "[37]\ttrain-error:0.0106031+0.000186718\ttest-error:0.0117444+0.00148271\n",
      "[38]\ttrain-error:0.0105993+0.000188605\ttest-error:0.0117444+0.00148271\n",
      "[39]\ttrain-error:0.0105812+0.00020984\ttest-error:0.0117444+0.00148271\n",
      "[40]\ttrain-error:0.0105573+0.000189182\ttest-error:0.0117444+0.00148271\n",
      "[41]\ttrain-error:0.0105535+0.00018599\ttest-error:0.0117444+0.00148271\n",
      "[42]\ttrain-error:0.010554+0.00018274\ttest-error:0.0117444+0.00148271\n",
      "[43]\ttrain-error:0.0105525+0.000184153\ttest-error:0.0117444+0.00148271\n",
      "[44]\ttrain-error:0.0105455+0.000181439\ttest-error:0.0117444+0.00148271\n",
      "[45]\ttrain-error:0.0105248+0.00020546\ttest-error:0.0117444+0.00148271\n",
      "[46]\ttrain-error:0.0105238+0.000203658\ttest-error:0.0117444+0.00148271\n",
      "[47]\ttrain-error:0.0105099+0.000206004\ttest-error:0.0117444+0.00148271\n",
      "[48]\ttrain-error:0.0104722+0.000222398\ttest-error:0.0117444+0.00148271\n",
      "[49]\ttrain-error:0.0104658+0.000211857\ttest-error:0.0117444+0.00148271\n",
      "[50]\ttrain-error:0.0104579+0.000214096\ttest-error:0.0117444+0.00148271\n",
      "[51]\ttrain-error:0.0104452+0.000224104\ttest-error:0.0117444+0.00148271\n",
      "[52]\ttrain-error:0.0104503+0.000215995\ttest-error:0.0117444+0.00148271\n",
      "[53]\ttrain-error:0.0104417+0.000208038\ttest-error:0.0117444+0.00148271\n",
      "[54]\ttrain-error:0.0104195+0.000177196\ttest-error:0.0117368+0.00147362\n",
      "[55]\ttrain-error:0.0104034+0.00018446\ttest-error:0.0117625+0.00149373\n",
      "[56]\ttrain-error:0.0104082+0.00017873\ttest-error:0.0117625+0.00149373\n",
      "[57]\ttrain-error:0.0104082+0.00017873\ttest-error:0.0117625+0.00149373\n",
      "[58]\ttrain-error:0.0104044+0.000183084\ttest-error:0.0117625+0.00149373\n",
      "[59]\ttrain-error:0.0103996+0.000188586\ttest-error:0.0117625+0.00149373\n",
      "[60]\ttrain-error:0.0103889+0.000191846\ttest-error:0.0117625+0.00149373\n"
     ]
    },
    {
     "data": {
      "text/html": [
       "<div>\n",
       "<style>\n",
       "    .dataframe thead tr:only-child th {\n",
       "        text-align: right;\n",
       "    }\n",
       "\n",
       "    .dataframe thead th {\n",
       "        text-align: left;\n",
       "    }\n",
       "\n",
       "    .dataframe tbody tr th {\n",
       "        vertical-align: top;\n",
       "    }\n",
       "</style>\n",
       "<table border=\"1\" class=\"dataframe\">\n",
       "  <thead>\n",
       "    <tr style=\"text-align: right;\">\n",
       "      <th></th>\n",
       "      <th>test-error-mean</th>\n",
       "      <th>test-error-std</th>\n",
       "      <th>train-error-mean</th>\n",
       "      <th>train-error-std</th>\n",
       "    </tr>\n",
       "  </thead>\n",
       "  <tbody>\n",
       "    <tr>\n",
       "      <th>0</th>\n",
       "      <td>0.011872</td>\n",
       "      <td>0.001502</td>\n",
       "      <td>0.010945</td>\n",
       "      <td>0.000185</td>\n",
       "    </tr>\n",
       "    <tr>\n",
       "      <th>1</th>\n",
       "      <td>0.011870</td>\n",
       "      <td>0.001476</td>\n",
       "      <td>0.010768</td>\n",
       "      <td>0.000178</td>\n",
       "    </tr>\n",
       "    <tr>\n",
       "      <th>2</th>\n",
       "      <td>0.011872</td>\n",
       "      <td>0.001490</td>\n",
       "      <td>0.010681</td>\n",
       "      <td>0.000222</td>\n",
       "    </tr>\n",
       "    <tr>\n",
       "      <th>3</th>\n",
       "      <td>0.011820</td>\n",
       "      <td>0.001443</td>\n",
       "      <td>0.010697</td>\n",
       "      <td>0.000238</td>\n",
       "    </tr>\n",
       "    <tr>\n",
       "      <th>4</th>\n",
       "      <td>0.011736</td>\n",
       "      <td>0.001416</td>\n",
       "      <td>0.010677</td>\n",
       "      <td>0.000186</td>\n",
       "    </tr>\n",
       "    <tr>\n",
       "      <th>5</th>\n",
       "      <td>0.011747</td>\n",
       "      <td>0.001517</td>\n",
       "      <td>0.010707</td>\n",
       "      <td>0.000180</td>\n",
       "    </tr>\n",
       "    <tr>\n",
       "      <th>6</th>\n",
       "      <td>0.011745</td>\n",
       "      <td>0.001493</td>\n",
       "      <td>0.010684</td>\n",
       "      <td>0.000189</td>\n",
       "    </tr>\n",
       "    <tr>\n",
       "      <th>7</th>\n",
       "      <td>0.011752</td>\n",
       "      <td>0.001497</td>\n",
       "      <td>0.010663</td>\n",
       "      <td>0.000160</td>\n",
       "    </tr>\n",
       "    <tr>\n",
       "      <th>8</th>\n",
       "      <td>0.011772</td>\n",
       "      <td>0.001442</td>\n",
       "      <td>0.010653</td>\n",
       "      <td>0.000178</td>\n",
       "    </tr>\n",
       "    <tr>\n",
       "      <th>9</th>\n",
       "      <td>0.011723</td>\n",
       "      <td>0.001528</td>\n",
       "      <td>0.010623</td>\n",
       "      <td>0.000192</td>\n",
       "    </tr>\n",
       "    <tr>\n",
       "      <th>10</th>\n",
       "      <td>0.011672</td>\n",
       "      <td>0.001502</td>\n",
       "      <td>0.010655</td>\n",
       "      <td>0.000183</td>\n",
       "    </tr>\n",
       "  </tbody>\n",
       "</table>\n",
       "</div>"
      ],
      "text/plain": [
       "    test-error-mean  test-error-std  train-error-mean  train-error-std\n",
       "0          0.011872        0.001502          0.010945         0.000185\n",
       "1          0.011870        0.001476          0.010768         0.000178\n",
       "2          0.011872        0.001490          0.010681         0.000222\n",
       "3          0.011820        0.001443          0.010697         0.000238\n",
       "4          0.011736        0.001416          0.010677         0.000186\n",
       "5          0.011747        0.001517          0.010707         0.000180\n",
       "6          0.011745        0.001493          0.010684         0.000189\n",
       "7          0.011752        0.001497          0.010663         0.000160\n",
       "8          0.011772        0.001442          0.010653         0.000178\n",
       "9          0.011723        0.001528          0.010623         0.000192\n",
       "10         0.011672        0.001502          0.010655         0.000183"
      ]
     },
     "execution_count": 149,
     "metadata": {},
     "output_type": "execute_result"
    }
   ],
   "source": [
    "xgb.cv(xgb_params, dtrain, num_round, nfold = nfold, early_stopping_rounds = early_stopping_rounds,\n",
    "      metrics = {'error'}, seed = 42,\n",
    "      callbacks = [xgb.callback.print_evaluation(show_stdv = True)])"
   ]
  },
  {
   "cell_type": "code",
   "execution_count": 152,
   "metadata": {
    "collapsed": false
   },
   "outputs": [
    {
     "name": "stdout",
     "output_type": "stream",
     "text": [
      "[0]\ttrain-error:0.0109442\ttest-error:0.011715\n",
      "Multiple eval metrics have been passed: 'test-error' will be used for early stopping.\n",
      "\n",
      "Will train until test-error hasn't improved in 3 rounds.\n",
      "[1]\ttrain-error:0.0107786\ttest-error:0.0116996\n",
      "[2]\ttrain-error:0.0107405\ttest-error:0.0117508\n",
      "[3]\ttrain-error:0.0107611\ttest-error:0.0116372\n",
      "[4]\ttrain-error:0.0107298\ttest-error:0.0115632\n",
      "[5]\ttrain-error:0.0107362\ttest-error:0.011552\n",
      "[6]\ttrain-error:0.0107295\ttest-error:0.0115972\n",
      "[7]\ttrain-error:0.0107043\ttest-error:0.0115972\n",
      "[8]\ttrain-error:0.01067\ttest-error:0.0116494\n",
      "Stopping. Best iteration:\n",
      "[5]\ttrain-error:0.0107362+0.000168906\ttest-error:0.011552+0.00109658\n",
      "\n"
     ]
    }
   ],
   "source": [
    "res = xgb.cv(xgb_params, dtrain, num_boost_round = num_boost_rounds, nfold = 10,\n",
    "            metrics = {'error'}, seed = 0,\n",
    "            callbacks=[xgb.callback.print_evaluation(show_stdv=False),\n",
    "                        xgb.callback.early_stop(3)])"
   ]
  },
  {
   "cell_type": "markdown",
   "metadata": {},
   "source": [
    "### 4) Set number of boosting rounds"
   ]
  },
  {
   "cell_type": "code",
   "execution_count": 159,
   "metadata": {
    "collapsed": true
   },
   "outputs": [],
   "source": [
    "num_boost_rounds = 5000"
   ]
  },
  {
   "cell_type": "markdown",
   "metadata": {},
   "source": [
    "### 5) Train model"
   ]
  },
  {
   "cell_type": "code",
   "execution_count": 171,
   "metadata": {
    "collapsed": true
   },
   "outputs": [],
   "source": [
    "progress = dict()\n",
    "watchlist  = [(dtrain,'train-rmse'), (dtest, 'eval-rmse')]"
   ]
  },
  {
   "cell_type": "code",
   "execution_count": 174,
   "metadata": {
    "collapsed": false
   },
   "outputs": [],
   "source": [
    "model = xgb.train(dict(xgb_params), dtrain, num_boost_round=num_boost_rounds)\n",
    "# early_stopping_rounds = 50, watchlist = watchlist, evals_result=progress\n",
    "\n",
    "# silence = 0 to watch the rows."
   ]
  },
  {
   "cell_type": "code",
   "execution_count": 175,
   "metadata": {
    "collapsed": false
   },
   "outputs": [
    {
     "ename": "NameError",
     "evalue": "name 'modelfit' is not defined",
     "output_type": "error",
     "traceback": [
      "\u001b[0;31m---------------------------------------------------------------------------\u001b[0m",
      "\u001b[0;31mNameError\u001b[0m                                 Traceback (most recent call last)",
      "\u001b[0;32m<ipython-input-175-23bda9cd1dca>\u001b[0m in \u001b[0;36m<module>\u001b[0;34m()\u001b[0m\n\u001b[0;32m----> 1\u001b[0;31m \u001b[0mmodelfit\u001b[0m\u001b[0;34m(\u001b[0m\u001b[0mmodel\u001b[0m\u001b[0;34m)\u001b[0m\u001b[0;34m\u001b[0m\u001b[0m\n\u001b[0m",
      "\u001b[0;31mNameError\u001b[0m: name 'modelfit' is not defined"
     ]
    }
   ],
   "source": [
    "modelfit(model)"
   ]
  },
  {
   "cell_type": "markdown",
   "metadata": {},
   "source": [
    "### 6) Predict test values"
   ]
  },
  {
   "cell_type": "code",
   "execution_count": 176,
   "metadata": {
    "collapsed": true
   },
   "outputs": [],
   "source": [
    "xgb_predict = model.predict(dtest)"
   ]
  },
  {
   "cell_type": "code",
   "execution_count": 177,
   "metadata": {
    "collapsed": false
   },
   "outputs": [
    {
     "data": {
      "text/plain": [
       "0.078727519028184811"
      ]
     },
     "execution_count": 177,
     "metadata": {},
     "output_type": "execute_result"
    }
   ],
   "source": [
    "mean_absolute_error(y_test, xgb_predict)"
   ]
  },
  {
   "cell_type": "code",
   "execution_count": null,
   "metadata": {
    "collapsed": true
   },
   "outputs": [],
   "source": [
    "#1) model with categorical variables as dummies \n",
    "#    (numbath, numbed, totalbath, yearbuilt are numeric continuous)\n",
    "\n",
    "\n",
    "#xgb_params = {\n",
    "#    'learning_rate':.06,\n",
    "#    'eta': 0.01,\n",
    "#    'max_depth': 7,\n",
    "#    'subsample': 0.85,\n",
    "#    'colsample_bytree': 0.7,\n",
    "#    'objective': 'reg:linear',\n",
    "#    'silent': 0,\n",
    "#    'seed': 42\n",
    "#}\n",
    "\n",
    "#num_round = 5000\n",
    "\n",
    "#early_stopping_rounds=none\n",
    "\n",
    "#         MAE = 0.078727519028184811"
   ]
  },
  {
   "cell_type": "markdown",
   "metadata": {},
   "source": [
    "### 7) Set up writing predictions to csv"
   ]
  },
  {
   "cell_type": "code",
   "execution_count": 77,
   "metadata": {
    "collapsed": false
   },
   "outputs": [],
   "source": [
    "output = pd.DataFrame({'ParcelId': properties_master['parcelid'],\n",
    "                      '201610': xgb_predict, '201611': xgb_predict, '201612': xgb_predict,\n",
    "                      '201710': xgb_predict, '201711': xgb_predict, '201712': xgb_predict})\n",
    "cols = output.columns.tolist()\n",
    "cols = cols[-1:] + cols[:-1]\n",
    "output = output[cols]"
   ]
  },
  {
   "cell_type": "code",
   "execution_count": 80,
   "metadata": {
    "collapsed": false
   },
   "outputs": [],
   "source": [
    "output.to_csv('zillow_pillow_sub1.csv'.format(datetime.now().strftime('%Y%m%d_%H%M%S')), index=False)"
   ]
  },
  {
   "cell_type": "code",
   "execution_count": 83,
   "metadata": {
    "collapsed": false
   },
   "outputs": [
    {
     "data": {
      "text/plain": [
       "(2985217, 7)"
      ]
     },
     "execution_count": 83,
     "metadata": {},
     "output_type": "execute_result"
    }
   ],
   "source": [
    "output.shape"
   ]
  },
  {
   "cell_type": "code",
   "execution_count": 86,
   "metadata": {
    "collapsed": false
   },
   "outputs": [
    {
     "data": {
      "text/plain": [
       "(2985217, 7)"
      ]
     },
     "execution_count": 86,
     "metadata": {},
     "output_type": "execute_result"
    }
   ],
   "source": [
    "sample_submission.shape"
   ]
  },
  {
   "cell_type": "markdown",
   "metadata": {},
   "source": [
    "### 4) Visualize Feature Importance"
   ]
  },
  {
   "cell_type": "code",
   "execution_count": null,
   "metadata": {
    "collapsed": false
   },
   "outputs": [],
   "source": [
    "#imputed values\n",
    "fig, ax = plt.subplots(figsize=(12,18))\n",
    "xgb.plot_importance(model, height=0.8, ax=ax)\n",
    "plt.show()"
   ]
  },
  {
   "cell_type": "code",
   "execution_count": 94,
   "metadata": {
    "collapsed": false
   },
   "outputs": [
    {
     "ename": "AttributeError",
     "evalue": "module 'xgboost' has no attribute 'plot'",
     "output_type": "error",
     "traceback": [
      "\u001b[0;31m---------------------------------------------------------------------------\u001b[0m",
      "\u001b[0;31mAttributeError\u001b[0m                            Traceback (most recent call last)",
      "\u001b[0;32m<ipython-input-94-50de957d69c6>\u001b[0m in \u001b[0;36m<module>\u001b[0;34m()\u001b[0m\n\u001b[0;32m----> 1\u001b[0;31m \u001b[0mxgb\u001b[0m\u001b[0;34m.\u001b[0m\u001b[0mplot\u001b[0m\u001b[0;34m.\u001b[0m\u001b[0mdeepness\u001b[0m\u001b[0;34m(\u001b[0m\u001b[0mmodel\u001b[0m \u001b[0;34m=\u001b[0m \u001b[0mmodel\u001b[0m\u001b[0;34m)\u001b[0m\u001b[0;34m\u001b[0m\u001b[0m\n\u001b[0m",
      "\u001b[0;31mAttributeError\u001b[0m: module 'xgboost' has no attribute 'plot'"
     ]
    }
   ],
   "source": [
    "xgb.plot.deepness(model = model)"
   ]
  },
  {
   "cell_type": "code",
   "execution_count": null,
   "metadata": {
    "collapsed": true
   },
   "outputs": [],
   "source": []
  }
 ],
 "metadata": {
  "anaconda-cloud": {},
  "kernelspec": {
   "display_name": "Python [default]",
   "language": "python",
   "name": "python3"
  },
  "language_info": {
   "codemirror_mode": {
    "name": "ipython",
    "version": 3
   },
   "file_extension": ".py",
   "mimetype": "text/x-python",
   "name": "python",
   "nbconvert_exporter": "python",
   "pygments_lexer": "ipython3",
   "version": "3.5.2"
  }
 },
 "nbformat": 4,
 "nbformat_minor": 2
}
