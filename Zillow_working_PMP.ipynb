{
 "cells": [
  {
   "cell_type": "code",
   "execution_count": 2,
   "metadata": {
    "collapsed": false
   },
   "outputs": [],
   "source": [
    "import numpy as np\n",
    "import pandas as pd\n",
    "import xgboost as xgb\n",
    "from sklearn.preprocessing import LabelEncoder\n",
    "import matplotlib.pyplot as plt\n",
    "import seaborn as sns\n",
    "import gc\n",
    "from datetime import datetime\n",
    "import random\n",
    "from sklearn.cross_validation import train_test_split\n",
    "\n",
    "color = sns.color_palette()\n",
    "%matplotlib inline"
   ]
  },
  {
   "cell_type": "code",
   "execution_count": 53,
   "metadata": {
    "collapsed": false
   },
   "outputs": [
    {
     "name": "stderr",
     "output_type": "stream",
     "text": [
      "/Users/Patrick/anaconda/lib/python3.5/site-packages/IPython/core/interactiveshell.py:2698: DtypeWarning: Columns (22,32,34,49,55) have mixed types. Specify dtype option on import or set low_memory=False.\n",
      "  interactivity=interactivity, compiler=compiler, result=result)\n"
     ]
    }
   ],
   "source": [
    "properties_og = pd.read_csv('properties_2016.csv')\n",
    "transactions_og = pd.read_csv('train_2016_v2.csv')\n",
    "train_master = pd.read_csv('train_master.csv', index_col=0)\n",
    "properties_master = pd.read_csv('imputed.csv')"
   ]
  },
  {
   "cell_type": "code",
   "execution_count": 84,
   "metadata": {
    "collapsed": true
   },
   "outputs": [],
   "source": [
    "sample_submission = pd.read_csv('sample_submission.csv')"
   ]
  },
  {
   "cell_type": "code",
   "execution_count": 127,
   "metadata": {
    "collapsed": false
   },
   "outputs": [
    {
     "data": {
      "text/plain": [
       "parcelid                          int64\n",
       "logerror                        float64\n",
       "transactiondate                  object\n",
       "Unnamed: 0                        int64\n",
       "airconditioningtypeid             int64\n",
       "basementsqft                      int64\n",
       "bathroomcnt                     float64\n",
       "bedroomcnt                        int64\n",
       "buildingqualitytypeid             int64\n",
       "calculatedfinishedsquarefeet    float64\n",
       "fips                              int64\n",
       "fireplacecnt                      int64\n",
       "fullbathcnt                       int64\n",
       "garagecarcnt                      int64\n",
       "garagetotalsqft                   int64\n",
       "hashottuborspa                    int64\n",
       "heatingorsystemtypeid             int64\n",
       "latitude                        float64\n",
       "longitude                       float64\n",
       "lotsizesquarefeet               float64\n",
       "poolsizesum                       int64\n",
       "pooltypeid2                       int64\n",
       "pooltypeid7                       int64\n",
       "propertycountylandusecode         int64\n",
       "propertylandusetypeid             int64\n",
       "rawcensustractandblock          float64\n",
       "regionidcity                      int64\n",
       "regionidcounty                    int64\n",
       "regionidzip                       int64\n",
       "threequarterbathnbr               int64\n",
       "unitcnt                           int64\n",
       "yearbuilt                         int64\n",
       "numberofstories                   int64\n",
       "structuretaxvaluedollarcnt      float64\n",
       "landtaxvaluedollarcnt           float64\n",
       "taxdelinquencyflag                int64\n",
       "taxdelinquencyyear                int64\n",
       "censustractandblock               int64\n",
       "dtype: object"
      ]
     },
     "execution_count": 127,
     "metadata": {},
     "output_type": "execute_result"
    }
   ],
   "source": [
    "train_master.dtypes"
   ]
  },
  {
   "cell_type": "code",
   "execution_count": 124,
   "metadata": {
    "collapsed": false
   },
   "outputs": [
    {
     "data": {
      "text/plain": [
       "0        34.280990\n",
       "1        33.668120\n",
       "2        34.136312\n",
       "3        33.755800\n",
       "4        33.485643\n",
       "5        33.870089\n",
       "6        33.899475\n",
       "7        34.207204\n",
       "8        33.549600\n",
       "9        33.612700\n",
       "10       34.164671\n",
       "11       34.072220\n",
       "12       34.189804\n",
       "13       33.670900\n",
       "14       33.913333\n",
       "15       33.676787\n",
       "16       34.176362\n",
       "17       33.776400\n",
       "18       33.770148\n",
       "19       34.164085\n",
       "20       33.858594\n",
       "21       33.754729\n",
       "22       33.784649\n",
       "23       33.969828\n",
       "24       33.773334\n",
       "25       33.901561\n",
       "26       34.598115\n",
       "27       33.486586\n",
       "28       34.167800\n",
       "29       33.780400\n",
       "           ...    \n",
       "90245    34.167062\n",
       "90246    33.766300\n",
       "90247    34.010594\n",
       "90248    33.719815\n",
       "90249    34.675820\n",
       "90250    33.737795\n",
       "90251    33.898289\n",
       "90252    33.891465\n",
       "90253    34.692600\n",
       "90254    33.892081\n",
       "90255    34.680299\n",
       "90256    33.703455\n",
       "90257    34.151800\n",
       "90258    34.060800\n",
       "90259    34.079800\n",
       "90260    33.897200\n",
       "90261    34.003038\n",
       "90262    34.311978\n",
       "90263    34.155200\n",
       "90264    34.036709\n",
       "90265    34.154600\n",
       "90266    33.898700\n",
       "90267    34.268916\n",
       "90268    33.916972\n",
       "90269    34.098870\n",
       "90270    34.203000\n",
       "90271    34.198744\n",
       "90272    34.075655\n",
       "90273    33.963900\n",
       "90274    33.838933\n",
       "Name: latitude, Length: 90275, dtype: float64"
      ]
     },
     "execution_count": 124,
     "metadata": {},
     "output_type": "execute_result"
    }
   ],
   "source": [
    "train_master['latitude']"
   ]
  },
  {
   "cell_type": "markdown",
   "metadata": {},
   "source": [
    "### 1) Preprocessing: Convert 64 bit floats to 32 bit and fix column name types"
   ]
  },
  {
   "cell_type": "code",
   "execution_count": 54,
   "metadata": {
    "collapsed": false,
    "scrolled": true
   },
   "outputs": [],
   "source": [
    "for c, dtype in zip(train_master.columns, train_master.dtypes):\n",
    "    if dtype == np.float64:\n",
    "        train_master[c] = train_master[c].astype(np.float32)"
   ]
  },
  {
   "cell_type": "code",
   "execution_count": 55,
   "metadata": {
    "collapsed": false
   },
   "outputs": [],
   "source": [
    "for c in properties_master.columns:\n",
    "    properties_master[c]=properties_master[c].fillna(-1)\n",
    "    if properties_master[c].dtype == 'object':\n",
    "        lbl = LabelEncoder()\n",
    "        lbl.fit(list(properties_master[c].values))\n",
    "        properties_master[c] = lbl.transform(list(properties_master[c].values))"
   ]
  },
  {
   "cell_type": "code",
   "execution_count": 56,
   "metadata": {
    "collapsed": false
   },
   "outputs": [],
   "source": [
    "train_master = transactions_og.merge(properties_master, how='left', on='parcelid')"
   ]
  },
  {
   "cell_type": "markdown",
   "metadata": {},
   "source": [
    "## XGBoost"
   ]
  },
  {
   "cell_type": "markdown",
   "metadata": {},
   "source": [
    "### 1) Initialize train_y, train_xvars, feature names"
   ]
  },
  {
   "cell_type": "code",
   "execution_count": 62,
   "metadata": {
    "collapsed": false
   },
   "outputs": [],
   "source": [
    "train_y = train_master['logerror'].values\n",
    "train_x = train_master.drop(['parcelid', 'logerror', 'transactiondate'], axis = 1)\n",
    "test_x = properties_master.drop(['parcelid'], axis = 1)\n",
    "feat_names = train_x.columns.values\n",
    "mean_y = np.mean(train_y)"
   ]
  },
  {
   "cell_type": "code",
   "execution_count": 102,
   "metadata": {
    "collapsed": false
   },
   "outputs": [],
   "source": [
    "random.seed(0)\n",
    "train_sample = train_master.sample(frac=0.7)"
   ]
  },
  {
   "cell_type": "code",
   "execution_count": 113,
   "metadata": {
    "collapsed": false
   },
   "outputs": [],
   "source": [
    "X_train, X_test, y_train, y_test = train_test_split(train_x, train_y, test_size=0.2, random_state=42)"
   ]
  },
  {
   "cell_type": "code",
   "execution_count": 122,
   "metadata": {
    "collapsed": false
   },
   "outputs": [
    {
     "data": {
      "text/plain": [
       "(72220,)"
      ]
     },
     "execution_count": 122,
     "metadata": {},
     "output_type": "execute_result"
    }
   ],
   "source": [
    "y_train.shape"
   ]
  },
  {
   "cell_type": "code",
   "execution_count": 63,
   "metadata": {
    "collapsed": false
   },
   "outputs": [],
   "source": [
    "for c in train_x.dtypes[train_x.dtypes == object].index.values:\n",
    "    train_x[c] = (train_x[c] == True)"
   ]
  },
  {
   "cell_type": "code",
   "execution_count": 64,
   "metadata": {
    "collapsed": false
   },
   "outputs": [
    {
     "name": "stdout",
     "output_type": "stream",
     "text": [
      "Shape train: (90275, 35)\n",
      "Shape test: (2985217, 35)\n"
     ]
    }
   ],
   "source": [
    "print('Shape train: {}\\nShape test: {}'.format(train_x.shape, test_x.shape))"
   ]
  },
  {
   "cell_type": "markdown",
   "metadata": {},
   "source": [
    "### 2) Set parameters"
   ]
  },
  {
   "cell_type": "code",
   "execution_count": 88,
   "metadata": {
    "collapsed": false
   },
   "outputs": [],
   "source": [
    "xgb_params = {\n",
    "    'eta': 0.01,\n",
    "    'max_depth': 8,\n",
    "    'subsample': 0.7,\n",
    "    'colsample_bytree': 0.7,\n",
    "    'objective': 'reg:linear',\n",
    "    'silent': 0,\n",
    "    'seed' : 0\n",
    "}\n",
    "num_round = 2"
   ]
  },
  {
   "cell_type": "markdown",
   "metadata": {},
   "source": [
    "### 3) Set train matrix and model"
   ]
  },
  {
   "cell_type": "code",
   "execution_count": 67,
   "metadata": {
    "collapsed": false
   },
   "outputs": [],
   "source": [
    "dtrain = xgb.DMatrix(train_x, train_y, feature_names=train_x.columns.values)\n",
    "dtest = xgb.DMatrix(test_x)"
   ]
  },
  {
   "cell_type": "markdown",
   "metadata": {},
   "source": [
    "### 4) Cross validation"
   ]
  },
  {
   "cell_type": "code",
   "execution_count": 89,
   "metadata": {
    "collapsed": false
   },
   "outputs": [
    {
     "name": "stdout",
     "output_type": "stream",
     "text": [
      "[0]\ttrain-error:0.0110586+0.00016817\ttest-error:0.0118321+0.00124801\n",
      "[1]\ttrain-error:0.0108414+0.000234347\ttest-error:0.0118759+0.0012229\n"
     ]
    },
    {
     "data": {
      "text/html": [
       "<div>\n",
       "<style>\n",
       "    .dataframe thead tr:only-child th {\n",
       "        text-align: right;\n",
       "    }\n",
       "\n",
       "    .dataframe thead th {\n",
       "        text-align: left;\n",
       "    }\n",
       "\n",
       "    .dataframe tbody tr th {\n",
       "        vertical-align: top;\n",
       "    }\n",
       "</style>\n",
       "<table border=\"1\" class=\"dataframe\">\n",
       "  <thead>\n",
       "    <tr style=\"text-align: right;\">\n",
       "      <th></th>\n",
       "      <th>test-error-mean</th>\n",
       "      <th>test-error-std</th>\n",
       "      <th>train-error-mean</th>\n",
       "      <th>train-error-std</th>\n",
       "    </tr>\n",
       "  </thead>\n",
       "  <tbody>\n",
       "    <tr>\n",
       "      <th>0</th>\n",
       "      <td>0.011832</td>\n",
       "      <td>0.001248</td>\n",
       "      <td>0.011059</td>\n",
       "      <td>0.000168</td>\n",
       "    </tr>\n",
       "    <tr>\n",
       "      <th>1</th>\n",
       "      <td>0.011876</td>\n",
       "      <td>0.001223</td>\n",
       "      <td>0.010841</td>\n",
       "      <td>0.000234</td>\n",
       "    </tr>\n",
       "  </tbody>\n",
       "</table>\n",
       "</div>"
      ],
      "text/plain": [
       "   test-error-mean  test-error-std  train-error-mean  train-error-std\n",
       "0         0.011832        0.001248          0.011059         0.000168\n",
       "1         0.011876        0.001223          0.010841         0.000234"
      ]
     },
     "execution_count": 89,
     "metadata": {},
     "output_type": "execute_result"
    }
   ],
   "source": [
    "xgb.cv(xgb_params, dtrain, num_round, nfold = 10,\n",
    "      metrics = {'error'}, seed = 0,\n",
    "      callbacks = [xgb.callback.print_evaluation(show_stdv = True)])"
   ]
  },
  {
   "cell_type": "code",
   "execution_count": 91,
   "metadata": {
    "collapsed": false
   },
   "outputs": [
    {
     "name": "stdout",
     "output_type": "stream",
     "text": [
      "[0]\ttrain-error:0.0110586\ttest-error:0.0118321\n",
      "Multiple eval metrics have been passed: 'test-error' will be used for early stopping.\n",
      "\n",
      "Will train until test-error hasn't improved in 3 rounds.\n",
      "[1]\ttrain-error:0.0108414\ttest-error:0.0118759\n",
      "[2]\ttrain-error:0.0108005\ttest-error:0.0118065\n",
      "[3]\ttrain-error:0.0108028\ttest-error:0.0116591\n",
      "[4]\ttrain-error:0.01074\ttest-error:0.0117054\n",
      "[5]\ttrain-error:0.0107355\ttest-error:0.0116003\n",
      "[6]\ttrain-error:0.0107307\ttest-error:0.0115608\n",
      "[7]\ttrain-error:0.0107486\ttest-error:0.0115673\n",
      "[8]\ttrain-error:0.010733\ttest-error:0.0115647\n",
      "[9]\ttrain-error:0.0107349\ttest-error:0.0115265\n",
      "[10]\ttrain-error:0.0107502\ttest-error:0.0115179\n",
      "[11]\ttrain-error:0.0107814\ttest-error:0.0115097\n",
      "[12]\ttrain-error:0.0107448\ttest-error:0.0115266\n",
      "[13]\ttrain-error:0.0107389\ttest-error:0.0114965\n",
      "[14]\ttrain-error:0.0107449\ttest-error:0.0115178\n",
      "[15]\ttrain-error:0.0107395\ttest-error:0.0115196\n",
      "[16]\ttrain-error:0.0107637\ttest-error:0.0114992\n",
      "Stopping. Best iteration:\n",
      "[13]\ttrain-error:0.0107389+0.000168171\ttest-error:0.0114965+0.00124956\n",
      "\n"
     ]
    }
   ],
   "source": [
    "res = xgb.cv(xgb_params, dtrain, num_boost_round = num_boost_rounds, nfold = 10,\n",
    "            metrics = {'error'}, seed = 0,\n",
    "            callbacks=[xgb.callback.print_evaluation(show_stdv=False),\n",
    "                        xgb.callback.early_stop(3)])"
   ]
  },
  {
   "cell_type": "markdown",
   "metadata": {},
   "source": [
    "### 4) Set number of boosting rounds"
   ]
  },
  {
   "cell_type": "code",
   "execution_count": 90,
   "metadata": {
    "collapsed": true
   },
   "outputs": [],
   "source": [
    "num_boost_rounds = 150"
   ]
  },
  {
   "cell_type": "markdown",
   "metadata": {},
   "source": [
    "### 5) Train model"
   ]
  },
  {
   "cell_type": "code",
   "execution_count": 68,
   "metadata": {
    "collapsed": true
   },
   "outputs": [],
   "source": [
    "model = xgb.train(dict(xgb_params), dtrain, num_boost_round=num_boost_rounds)"
   ]
  },
  {
   "cell_type": "code",
   "execution_count": null,
   "metadata": {
    "collapsed": true
   },
   "outputs": [],
   "source": [
    "modelfit(model)"
   ]
  },
  {
   "cell_type": "markdown",
   "metadata": {},
   "source": [
    "### 6) Predict test values"
   ]
  },
  {
   "cell_type": "code",
   "execution_count": 69,
   "metadata": {
    "collapsed": true
   },
   "outputs": [],
   "source": [
    "xgb_predict = model.predict(dtest)"
   ]
  },
  {
   "cell_type": "markdown",
   "metadata": {},
   "source": [
    "### 7) Set up writing predictions to csv"
   ]
  },
  {
   "cell_type": "code",
   "execution_count": 77,
   "metadata": {
    "collapsed": false
   },
   "outputs": [],
   "source": [
    "output = pd.DataFrame({'ParcelId': properties_master['parcelid'],\n",
    "                      '201610': xgb_predict, '201611': xgb_predict, '201612': xgb_predict,\n",
    "                      '201710': xgb_predict, '201711': xgb_predict, '201712': xgb_predict})\n",
    "cols = output.columns.tolist()\n",
    "cols = cols[-1:] + cols[:-1]\n",
    "output = output[cols]"
   ]
  },
  {
   "cell_type": "code",
   "execution_count": 80,
   "metadata": {
    "collapsed": false
   },
   "outputs": [],
   "source": [
    "output.to_csv('zillow_pillow_sub1.csv'.format(datetime.now().strftime('%Y%m%d_%H%M%S')), index=False)"
   ]
  },
  {
   "cell_type": "code",
   "execution_count": 83,
   "metadata": {
    "collapsed": false
   },
   "outputs": [
    {
     "data": {
      "text/plain": [
       "(2985217, 7)"
      ]
     },
     "execution_count": 83,
     "metadata": {},
     "output_type": "execute_result"
    }
   ],
   "source": [
    "output.shape"
   ]
  },
  {
   "cell_type": "code",
   "execution_count": 86,
   "metadata": {
    "collapsed": false
   },
   "outputs": [
    {
     "data": {
      "text/plain": [
       "(2985217, 7)"
      ]
     },
     "execution_count": 86,
     "metadata": {},
     "output_type": "execute_result"
    }
   ],
   "source": [
    "sample_submission.shape"
   ]
  },
  {
   "cell_type": "markdown",
   "metadata": {},
   "source": [
    "### 4) Visualize Feature Importance"
   ]
  },
  {
   "cell_type": "code",
   "execution_count": 47,
   "metadata": {
    "collapsed": false
   },
   "outputs": [
    {
     "data": {
      "image/png": "[encoded data removed]",
      "text/plain": [
       "<matplotlib.figure.Figure at 0x1156ee550>"
      ]
     },
     "metadata": {},
     "output_type": "display_data"
    }
   ],
   "source": [
    "#imputed values\n",
    "fig, ax = plt.subplots(figsize=(12,18))\n",
    "xgb.plot_importance(model, height=0.8, ax=ax)\n",
    "plt.show()"
   ]
  },
  {
   "cell_type": "code",
   "execution_count": 94,
   "metadata": {
    "collapsed": false
   },
   "outputs": [
    {
     "ename": "AttributeError",
     "evalue": "module 'xgboost' has no attribute 'plot'",
     "output_type": "error",
     "traceback": [
      "\u001b[0;31m---------------------------------------------------------------------------\u001b[0m",
      "\u001b[0;31mAttributeError\u001b[0m                            Traceback (most recent call last)",
      "\u001b[0;32m<ipython-input-94-50de957d69c6>\u001b[0m in \u001b[0;36m<module>\u001b[0;34m()\u001b[0m\n\u001b[0;32m----> 1\u001b[0;31m \u001b[0mxgb\u001b[0m\u001b[0;34m.\u001b[0m\u001b[0mplot\u001b[0m\u001b[0;34m.\u001b[0m\u001b[0mdeepness\u001b[0m\u001b[0;34m(\u001b[0m\u001b[0mmodel\u001b[0m \u001b[0;34m=\u001b[0m \u001b[0mmodel\u001b[0m\u001b[0;34m)\u001b[0m\u001b[0;34m\u001b[0m\u001b[0m\n\u001b[0m",
      "\u001b[0;31mAttributeError\u001b[0m: module 'xgboost' has no attribute 'plot'"
     ]
    }
   ],
   "source": [
    "xgb.plot.deepness(model = model)"
   ]
  },
  {
   "cell_type": "code",
   "execution_count": null,
   "metadata": {
    "collapsed": true
   },
   "outputs": [],
   "source": []
  }
 ],
 "metadata": {
  "anaconda-cloud": {},
  "kernelspec": {
   "display_name": "Python [conda root]",
   "language": "python",
   "name": "conda-root-py"
  },
  "language_info": {
   "codemirror_mode": {
    "name": "ipython",
    "version": 3
   },
   "file_extension": ".py",
   "mimetype": "text/x-python",
   "name": "python",
   "nbconvert_exporter": "python",
   "pygments_lexer": "ipython3",
   "version": "3.5.2"
  }
 },
 "nbformat": 4,
 "nbformat_minor": 2
}
